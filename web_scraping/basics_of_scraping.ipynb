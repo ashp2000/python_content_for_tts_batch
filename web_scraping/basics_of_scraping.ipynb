{
 "metadata": {
  "language_info": {
   "codemirror_mode": {
    "name": "ipython",
    "version": 3
   },
   "file_extension": ".py",
   "mimetype": "text/x-python",
   "name": "python",
   "nbconvert_exporter": "python",
   "pygments_lexer": "ipython3",
   "version": "3.8.3-final"
  },
  "orig_nbformat": 2,
  "kernelspec": {
   "name": "python_defaultSpec_1597923588064",
   "display_name": "Python 3.8.3 64-bit"
  }
 },
 "nbformat": 4,
 "nbformat_minor": 2,
 "cells": [
  {
   "cell_type": "code",
   "execution_count": 1,
   "metadata": {},
   "outputs": [],
   "source": [
    "import requests"
   ]
  },
  {
   "cell_type": "code",
   "execution_count": 2,
   "metadata": {},
   "outputs": [],
   "source": [
    "from bs4 import BeautifulSoup"
   ]
  },
  {
   "cell_type": "code",
   "execution_count": 3,
   "metadata": {},
   "outputs": [],
   "source": [
    "weburl = \"https://blog.scrapinghub.com/\""
   ]
  },
  {
   "cell_type": "code",
   "execution_count": 4,
   "metadata": {},
   "outputs": [],
   "source": [
    "page = requests.get(weburl)"
   ]
  },
  {
   "cell_type": "code",
   "execution_count": 5,
   "metadata": {},
   "outputs": [
    {
     "output_type": "execute_result",
     "data": {
      "text/plain": "200"
     },
     "metadata": {},
     "execution_count": 5
    }
   ],
   "source": [
    "page.status_code"
   ]
  },
  {
   "cell_type": "code",
   "execution_count": 6,
   "metadata": {},
   "outputs": [],
   "source": [
    "soup =  BeautifulSoup(page.text)"
   ]
  },
  {
   "cell_type": "code",
   "execution_count": 7,
   "metadata": {},
   "outputs": [
    {
     "output_type": "execute_result",
     "data": {
      "text/plain": "<h1>THE SCRAPINGHUB BLOG</h1>"
     },
     "metadata": {},
     "execution_count": 7
    }
   ],
   "source": [
    "soup.h1"
   ]
  },
  {
   "cell_type": "code",
   "execution_count": 8,
   "metadata": {},
   "outputs": [
    {
     "output_type": "execute_result",
     "data": {
      "text/plain": "<a href=\"https://blog.scrapinghub.com\">\n<h1>THE SCRAPINGHUB BLOG</h1>\n<h2 class=\"site-description\">Turn Web Content Into Useful Data</h2>\n</a>"
     },
     "metadata": {},
     "execution_count": 8
    }
   ],
   "source": [
    "soup.a"
   ]
  },
  {
   "cell_type": "code",
   "execution_count": 9,
   "metadata": {},
   "outputs": [
    {
     "output_type": "execute_result",
     "data": {
      "text/plain": "<p>Imagine a long crawling process, like extracting data from a website for a whole month. We can start it and leave it running until we get the results. Though, we can agree that a whole month is plenty of time for something to go wrong. The target website can go down for a few minutes/hours, there can be some sort of power outage in your crawling server or even some other internet connection...</p>"
     },
     "metadata": {},
     "execution_count": 9
    }
   ],
   "source": [
    "soup.p"
   ]
  },
  {
   "cell_type": "markdown",
   "metadata": {},
   "source": [
    "### collect all tags of a particular type"
   ]
  },
  {
   "cell_type": "code",
   "execution_count": 10,
   "metadata": {},
   "outputs": [
    {
     "output_type": "execute_result",
     "data": {
      "text/plain": "[<a href=\"https://blog.scrapinghub.com\">\n <h1>THE SCRAPINGHUB BLOG</h1>\n <h2 class=\"site-description\">Turn Web Content Into Useful Data</h2>\n </a>,\n <a class=\"hs-featured-image-link\" href=\"https://blog.scrapinghub.com/scrapy-cloud-secrets-hub-crawl-frontier-and-how-to-use-it\" title=\"\">\n <img alt=\"\" class=\"hs-featured-image\" src=\"https://f.hubspotusercontent10.net/hub/4367560/hubfs/Scrapy-Cloud-Secrets---Hub-Crawl-Frontier-and-how-to-use-it-Blog-Jul-2020-v1.gif?width=830&amp;name=Scrapy-Cloud-Secrets---Hub-Crawl-Frontier-and-how-to-use-it-Blog-Jul-2020-v1.gif\"/>\n </a>,\n <a href=\"https://blog.scrapinghub.com/scrapy-cloud-secrets-hub-crawl-frontier-and-how-to-use-it\">Scrapy Cloud Secrets: Hub Crawl Frontier and How To Use It</a>,\n <a href=\"https://blog.scrapinghub.com/scrapy-cloud-secrets-hub-crawl-frontier-and-how-to-use-it\">August 06, 2020 </a>,\n <a href=\"https://blog.scrapinghub.com/author/júlio-césar-batista\">Júlio César Batista</a>,\n <a href=\"https://blog.scrapinghub.com/scrapy-cloud-secrets-hub-crawl-frontier-and-how-to-use-it#comments-listing\">0 Comment</a>,\n <a class=\"more-link\" href=\"https://blog.scrapinghub.com/scrapy-cloud-secrets-hub-crawl-frontier-and-how-to-use-it\">Read More</a>,\n <a class=\"hs-featured-image-link\" href=\"https://blog.scrapinghub.com/blog-comments-api-beta-release\" title=\"\">\n <img alt=\"AutoExtract Blog Comments API\" class=\"hs-featured-image\" src=\"https://f.hubspotusercontent10.net/hub/4367560/hubfs/Comments-API-Blog-July-2020-v1.gif?width=830&amp;name=Comments-API-Blog-July-2020-v1.gif\"/>\n </a>,\n <a href=\"https://blog.scrapinghub.com/blog-comments-api-beta-release\">Blog Comments API (BETA): Extract Blog Comment DATA At Scale</a>,\n <a href=\"https://blog.scrapinghub.com/blog-comments-api-beta-release\">July 30, 2020 </a>,\n <a href=\"https://blog.scrapinghub.com/author/john-campbell\">John Campbell</a>,\n <a href=\"https://blog.scrapinghub.com/blog-comments-api-beta-release#comments-listing\">0 Comment</a>,\n <a href=\"https://www.scrapinghub.com/comments-data-api/?utm_campaign=ACM&amp;utm_activity=BLO&amp;utm_medium=REF&amp;utm_source=HUB&amp;utm_content=CommAPIBlog&amp;utm_primary=AEX&amp;utm_goal=FTR\" style=\"color: #990100;\">Blog Comments API</a>,\n <a class=\"more-link\" href=\"https://blog.scrapinghub.com/blog-comments-api-beta-release\">Read More</a>,\n <a class=\"hs-featured-image-link\" href=\"https://blog.scrapinghub.com/price-intelligence-questions-answered\" title=\"\">\n <img alt=\"\" class=\"hs-featured-image\" src=\"https://f.hubspotusercontent10.net/hub/4367560/hubfs/Your-Price-Intelligence-Questions-answered-blog-jul-2020-v1.gif?width=830&amp;name=Your-Price-Intelligence-Questions-answered-blog-jul-2020-v1.gif\"/>\n </a>,\n <a href=\"https://blog.scrapinghub.com/price-intelligence-questions-answered\">Your Price Intelligence Questions Answered</a>,\n <a href=\"https://blog.scrapinghub.com/price-intelligence-questions-answered\">July 28, 2020 </a>,\n <a href=\"https://blog.scrapinghub.com/author/himanshi-bhatt\">Himanshi Bhatt</a>,\n <a href=\"https://blog.scrapinghub.com/price-intelligence-questions-answered#comments-listing\">0 Comment</a>,\n <a class=\"more-link\" href=\"https://blog.scrapinghub.com/price-intelligence-questions-answered\">Read More</a>,\n <a class=\"hs-featured-image-link\" href=\"https://blog.scrapinghub.com/data-center-proxies-vs.-residential-proxies\" title=\"\">\n <img alt=\"\" class=\"hs-featured-image\" src=\"https://f.hubspotusercontent10.net/hub/4367560/hubfs/Webinar---Resi-vs-Data-proxies-April-2020-v5-blog.gif?width=830&amp;name=Webinar---Resi-vs-Data-proxies-April-2020-v5-blog.gif\"/>\n </a>,\n <a href=\"https://blog.scrapinghub.com/data-center-proxies-vs.-residential-proxies\">Data Center Proxies vs. Residential Proxies</a>,\n <a href=\"https://blog.scrapinghub.com/data-center-proxies-vs.-residential-proxies\">July 21, 2020 </a>,\n <a href=\"https://blog.scrapinghub.com/author/attila-tóth\">Attila Tóth</a>,\n <a href=\"https://blog.scrapinghub.com/data-center-proxies-vs.-residential-proxies#comments-listing\">0 Comment</a>,\n <a class=\"more-link\" href=\"https://blog.scrapinghub.com/data-center-proxies-vs.-residential-proxies\">Read More</a>,\n <a class=\"hs-featured-image-link\" href=\"https://blog.scrapinghub.com/how-to-get-high-success-rates-with-proxies-3-steps-to-scale-up\" title=\"\">\n <img alt=\"High Success Rates With Proxies\" class=\"hs-featured-image\" src=\"https://f.hubspotusercontent10.net/hub/4367560/hubfs/attila-scale.png?width=830&amp;name=attila-scale.png\"/>\n </a>,\n <a href=\"https://blog.scrapinghub.com/how-to-get-high-success-rates-with-proxies-3-steps-to-scale-up\">How to Get High Success Rates With Proxies: 3 Steps to Scale Up</a>,\n <a href=\"https://blog.scrapinghub.com/how-to-get-high-success-rates-with-proxies-3-steps-to-scale-up\">July 14, 2020 </a>,\n <a href=\"https://blog.scrapinghub.com/author/attila-tóth\">Attila Tóth</a>,\n <a href=\"https://blog.scrapinghub.com/how-to-get-high-success-rates-with-proxies-3-steps-to-scale-up#comments-listing\">0 Comment</a>,\n <a href=\"https://www.scrapinghub.com/crawlera\" style=\"color: #990100;\">rotating proxy solution</a>,\n <a class=\"more-link\" href=\"https://blog.scrapinghub.com/how-to-get-high-success-rates-with-proxies-3-steps-to-scale-up\">Read More</a>,\n <a class=\"hs-featured-image-link\" href=\"https://blog.scrapinghub.com/job-postings-api-stable-release\" title=\"\">\n <img alt=\"\" class=\"hs-featured-image\" src=\"https://f.hubspotusercontent10.net/hub/4367560/hubfs/Job-Postings-Beta-API-Extract-Job-Postings-at-Scale-with-our-Newest-API-BLOG-v2.gif?width=830&amp;name=Job-Postings-Beta-API-Extract-Job-Postings-at-Scale-with-our-Newest-API-BLOG-v2.gif\"/>\n </a>,\n <a href=\"https://blog.scrapinghub.com/job-postings-api-stable-release\">Job Postings API: Stable release</a>,\n <a href=\"https://blog.scrapinghub.com/job-postings-api-stable-release\">July 09, 2020 </a>,\n <a href=\"https://blog.scrapinghub.com/author/john-campbell\">John Campbell</a>,\n <a href=\"https://blog.scrapinghub.com/job-postings-api-stable-release#comments-listing\">0 Comment</a>,\n <a href=\"https://scrapinghub.com/data-api-job-postings/?utm_campaign=AJP&amp;utm_activity=BLO&amp;utm_medium=ORG&amp;utm_source=HUB&amp;utm_content=BLP&amp;utm_primary=AEX&amp;utm_goal=FTR\" style=\"color: #990100;\">Job Postings API</a>,\n <a class=\"more-link\" href=\"https://blog.scrapinghub.com/job-postings-api-stable-release\">Read More</a>,\n <a class=\"hs-featured-image-link\" href=\"https://blog.scrapinghub.com/web-scraping-basics-tools\" title=\"\">\n <img alt=\"\" class=\"hs-featured-image\" src=\"https://f.hubspotusercontent10.net/hub/4367560/hubfs/Developers-Guide-To-Reliably-Extract-Data-v1.gif?width=830&amp;name=Developers-Guide-To-Reliably-Extract-Data-v1.gif\"/>\n </a>,\n <a href=\"https://blog.scrapinghub.com/web-scraping-basics-tools\">Web Scraping Basics: A Developer’s Guide To Reliably Extract Data</a>,\n <a href=\"https://blog.scrapinghub.com/web-scraping-basics-tools\">July 07, 2020 </a>,\n <a href=\"https://blog.scrapinghub.com/author/chira-mircea\">Chira Mircea</a>,\n <a href=\"https://blog.scrapinghub.com/web-scraping-basics-tools#comments-listing\">0 Comment</a>,\n <a class=\"more-link\" href=\"https://blog.scrapinghub.com/web-scraping-basics-tools\">Read More</a>,\n <a class=\"hs-featured-image-link\" href=\"https://blog.scrapinghub.com/news-api-blog-importance-of-article-quality\" title=\"\">\n <img alt=\"\" class=\"hs-featured-image\" src=\"https://f.hubspotusercontent10.net/hub/4367560/hubfs/Extract-Article-and-News-Data---Data-Quality-jun2020-v1-1.png?width=830&amp;name=Extract-Article-and-News-Data---Data-Quality-jun2020-v1-1.png\"/>\n </a>,\n <a href=\"https://blog.scrapinghub.com/news-api-blog-importance-of-article-quality\">Extracting Article &amp; News Data: The Importance of Data Quality</a>,\n <a href=\"https://blog.scrapinghub.com/news-api-blog-importance-of-article-quality\">June 23, 2020 </a>,\n <a href=\"https://blog.scrapinghub.com/author/attila-tóth\">Attila Tóth</a>,\n <a href=\"https://blog.scrapinghub.com/news-api-blog-importance-of-article-quality#comments-listing\">0 Comment</a>,\n <a class=\"more-link\" href=\"https://blog.scrapinghub.com/news-api-blog-importance-of-article-quality\">Read More</a>,\n <a class=\"hs-featured-image-link\" href=\"https://blog.scrapinghub.com/price-gouging-or-economics-at-work-price-intelligence-to-track-consumer-sentiment\" title=\"\">\n <img alt=\"\" class=\"hs-featured-image\" src=\"https://cdn2.hubspot.net/hub/4367560/hubfs/Price-Gouging-or-Economics-at-Work---Price-Intelligence-to-Track-Consumer-Sentiment-jun2020-v1.png?width=830&amp;name=Price-Gouging-or-Economics-at-Work---Price-Intelligence-to-Track-Consumer-Sentiment-jun2020-v1.png\"/>\n </a>,\n <a href=\"https://blog.scrapinghub.com/price-gouging-or-economics-at-work-price-intelligence-to-track-consumer-sentiment\">Price Gouging or Economics at Work: Price Intelligence to Track Consumer Sentiment</a>,\n <a href=\"https://blog.scrapinghub.com/price-gouging-or-economics-at-work-price-intelligence-to-track-consumer-sentiment\">June 11, 2020 </a>,\n <a href=\"https://blog.scrapinghub.com/author/robert-cosgrave\">Robert Cosgrave</a>,\n <a href=\"https://blog.scrapinghub.com/price-gouging-or-economics-at-work-price-intelligence-to-track-consumer-sentiment#comments-listing\">0 Comment</a>,\n <a class=\"more-link\" href=\"https://blog.scrapinghub.com/price-gouging-or-economics-at-work-price-intelligence-to-track-consumer-sentiment\">Read More</a>,\n <a class=\"hs-featured-image-link\" href=\"https://blog.scrapinghub.com/web-data-qa-part-iii-combining-manual-and-automated-techniques-for-holistic-data-validation\" title=\"\">\n <img alt=\"\" class=\"hs-featured-image\" src=\"https://cdn2.hubspot.net/hub/4367560/hubfs/A-Practical-Guide-to-web-data-extraction-QA-part3-v3.gif?width=830&amp;name=A-Practical-Guide-to-web-data-extraction-QA-part3-v3.gif\"/>\n </a>,\n <a href=\"https://blog.scrapinghub.com/web-data-qa-part-iii-combining-manual-and-automated-techniques-for-holistic-data-validation\">A Practical Guide to Web Data QA Part III: Holistic Data Validation Techniques</a>,\n <a href=\"https://blog.scrapinghub.com/web-data-qa-part-iii-combining-manual-and-automated-techniques-for-holistic-data-validation\">June 09, 2020 </a>,\n <a href=\"https://blog.scrapinghub.com/author/ivan-ivanov-and-warley-ferreira-lopes\">Ivan Ivanov and Warley Ferreira Lopes</a>,\n <a href=\"https://blog.scrapinghub.com/web-data-qa-part-iii-combining-manual-and-automated-techniques-for-holistic-data-validation#comments-listing\">0 Comment</a>,\n <a href=\"https://blog.scrapinghub.com/guide-to-web-data-extraction-qa-validation-techniques\" style=\"color: #ff5048;\">first part</a>,\n <a href=\"https://blog.scrapinghub.com/web-data-qa-common-validation-pitfalls\" style=\"color: #ff5048;\">second part</a>,\n <a class=\"more-link\" href=\"https://blog.scrapinghub.com/web-data-qa-part-iii-combining-manual-and-automated-techniques-for-holistic-data-validation\">Read More</a>,\n <a class=\"next-posts-link\" href=\"https://blog.scrapinghub.com/page/2\">OLDER POST<i class=\"fa fa-angle-double-right\"></i></a>,\n <a href=\"https://blog.scrapinghub.com/building-blocks-of-unstoppable-web-scraping-infrastructure\" rel=\"noopener\"><img alt=\"A-Practical-Guide-to-web-data-extraction-QA-v2-email\" src=\"https://blog.scrapinghub.com/hubfs/A-Practical-Guide-to-web-data-extraction-QA-v2-email.webp\" width=\"0\"/></a>,\n <a href=\"https://blog.scrapinghub.com/web-scraping-basics-tools\" rel=\"noopener\">Web Scraping Basics: A Developer’s Guide to Reliably Extract Data</a>,\n <a href=\"https://cta-redirect.hubspot.com/cta/redirect/4367560/239861f7-e6e5-450e-ae54-526d0d12ddb0\" target=\"_blank\"><img alt=\"Start your Free Trial\" class=\"hs-cta-img\" id=\"hs-cta-img-239861f7-e6e5-450e-ae54-526d0d12ddb0\" src=\"https://no-cache.hubspot.com/cta/default/4367560/239861f7-e6e5-450e-ae54-526d0d12ddb0.png\" style=\"border-width:0px;\"/></a>,\n <a class=\"fm_button fm_linkedin\" href=\"https://www.linkedin.com/company/2450827\" style=\"text-decoration: none\" target=\"_blank\"><span style=\"background-image:url('https://f.hubspotusercontent10.net/hubfs/7528315/raw_assets/public/mV0_hubspot/img/linkedin_legacy_color.png'); background-size: 100%; width: 32px; height: 32px; display: inline-block; cursor: pointer;\"></span></a>,\n <a class=\"fm_button fm_twitter\" href=\"https://twitter.com/ScrapingHub\" style=\"text-decoration: none\" target=\"_blank\"><span style=\"background-image:url('https://f.hubspotusercontent00.net/hubfs/7528304/raw_assets/public/mV0_hubspot/img/twitter_legacy_color.png'); background-size: 100%; width: 32px; height: 32px; display: inline-block; cursor: pointer;\"></span></a>,\n <a class=\"fm_button fm_facebook\" href=\"https://www.facebook.com/104940802978089\" style=\"text-decoration: none\" target=\"_blank\"><span style=\"background-image:url('https://f.hubspotusercontent00.net/hubfs/7528304/raw_assets/public/mV0_hubspot/img/facebook_legacy_color.png'); background-size: 100%; width: 32px; height: 32px; display: inline-block; cursor: pointer;\"></span></a>,\n <a href=\"https://blog.scrapinghub.com/python-requests-proxy\">Learn how to configure and utilize proxies with Python Requests module</a>,\n <a href=\"https://blog.scrapinghub.com/2016/10/27/an-introduction-to-xpath-with-examples\">An Introduction to XPath: How to Get Started</a>,\n <a href=\"https://blog.scrapinghub.com/2015/03/02/handling-javascript-in-scrapy-with-splash\">Handling JavaScript in Scrapy with Splash</a>,\n <a href=\"https://blog.scrapinghub.com/2016/11/24/how-to-build-your-own-price-monitoring-tool\">How to Build your own Price Monitoring Tool</a>,\n <a href=\"https://blog.scrapinghub.com/2016/08/17/introducing-scrapy-cloud-with-python-3-support\">Introducing Scrapy Cloud with Python 3 Support</a>,\n <a href=\"https://blog.scrapinghub.com/tag/scrapinghub\">Scrapinghub <span class=\"filter-link-count\" dir=\"ltr\">(94)</span></a>,\n <a href=\"https://blog.scrapinghub.com/tag/scrapy\">Scrapy <span class=\"filter-link-count\" dir=\"ltr\">(45)</span></a>,\n <a href=\"https://blog.scrapinghub.com/tag/web-scraping\">Web Scraping <span class=\"filter-link-count\" dir=\"ltr\">(36)</span></a>,\n <a href=\"https://blog.scrapinghub.com/tag/releases\">Releases <span class=\"filter-link-count\" dir=\"ltr\">(29)</span></a>,\n <a href=\"https://blog.scrapinghub.com/tag/open-source-2\">Open source <span class=\"filter-link-count\" dir=\"ltr\">(20)</span></a>,\n <a href=\"https://blog.scrapinghub.com/tag/scrapy-2\">scrapy <span class=\"filter-link-count\" dir=\"ltr\">(19)</span></a>,\n <a href=\"https://blog.scrapinghub.com/tag/crawlera\">Crawlera <span class=\"filter-link-count\" dir=\"ltr\">(16)</span></a>,\n <a href=\"https://blog.scrapinghub.com/tag/scrapy-cloud\">Scrapy Cloud <span class=\"filter-link-count\" dir=\"ltr\">(15)</span></a>,\n <a href=\"https://blog.scrapinghub.com/tag/data-extraction\">data extraction <span class=\"filter-link-count\" dir=\"ltr\">(15)</span></a>,\n <a href=\"https://blog.scrapinghub.com/tag/web-crawling\">web crawling <span class=\"filter-link-count\" dir=\"ltr\">(15)</span></a>,\n <a href=\"https://blog.scrapinghub.com/tag/proxies\">Proxies <span class=\"filter-link-count\" dir=\"ltr\">(10)</span></a>,\n <a href=\"https://blog.scrapinghub.com/tag/autoextract\">AutoExtract <span class=\"filter-link-count\" dir=\"ltr\">(9)</span></a>,\n <a href=\"https://blog.scrapinghub.com/tag/scrapy-tips-from-the-pros\">Scrapy Tips from the Pros <span class=\"filter-link-count\" dir=\"ltr\">(9)</span></a>,\n <a href=\"https://blog.scrapinghub.com/tag/web-data\">Web Data <span class=\"filter-link-count\" dir=\"ltr\">(9)</span></a>,\n <a href=\"https://blog.scrapinghub.com/tag/crawling\">crawling <span class=\"filter-link-count\" dir=\"ltr\">(8)</span></a>,\n <a href=\"https://blog.scrapinghub.com/archive/2020/08\">August 2020 <span class=\"filter-link-count\" dir=\"ltr\">(1)</span></a>,\n <a href=\"https://blog.scrapinghub.com/archive/2020/07\">July 2020 <span class=\"filter-link-count\" dir=\"ltr\">(6)</span></a>,\n <a href=\"https://blog.scrapinghub.com/archive/2020/06\">June 2020 <span class=\"filter-link-count\" dir=\"ltr\">(3)</span></a>,\n <a href=\"https://blog.scrapinghub.com/archive/2020/05\">May 2020 <span class=\"filter-link-count\" dir=\"ltr\">(1)</span></a>,\n <a href=\"https://blog.scrapinghub.com/archive/2020/04\">April 2020 <span class=\"filter-link-count\" dir=\"ltr\">(3)</span></a>,\n <a href=\"https://blog.scrapinghub.com/archive/2020/03\">March 2020 <span class=\"filter-link-count\" dir=\"ltr\">(6)</span></a>,\n <a href=\"https://blog.scrapinghub.com/archive/2020/02\">February 2020 <span class=\"filter-link-count\" dir=\"ltr\">(4)</span></a>,\n <a href=\"https://blog.scrapinghub.com/archive/2020/01\">January 2020 <span class=\"filter-link-count\" dir=\"ltr\">(3)</span></a>,\n <a href=\"https://blog.scrapinghub.com/archive/2019/12\">December 2019 <span class=\"filter-link-count\" dir=\"ltr\">(3)</span></a>,\n <a href=\"https://blog.scrapinghub.com/archive/2019/11\">November 2019 <span class=\"filter-link-count\" dir=\"ltr\">(3)</span></a>,\n <a href=\"https://blog.scrapinghub.com/archive/2019/10\">October 2019 <span class=\"filter-link-count\" dir=\"ltr\">(4)</span></a>,\n <a href=\"https://blog.scrapinghub.com/archive/2019/09\">September 2019 <span class=\"filter-link-count\" dir=\"ltr\">(4)</span></a>,\n <a href=\"https://blog.scrapinghub.com/archive/2019/08\">August 2019 <span class=\"filter-link-count\" dir=\"ltr\">(3)</span></a>,\n <a href=\"https://blog.scrapinghub.com/archive/2019/07\">July 2019 <span class=\"filter-link-count\" dir=\"ltr\">(2)</span></a>,\n <a href=\"https://blog.scrapinghub.com/archive/2019/06\">June 2019 <span class=\"filter-link-count\" dir=\"ltr\">(1)</span></a>]"
     },
     "metadata": {},
     "execution_count": 10
    }
   ],
   "source": [
    "soup.find_all('a')"
   ]
  },
  {
   "cell_type": "code",
   "execution_count": 11,
   "metadata": {},
   "outputs": [
    {
     "output_type": "execute_result",
     "data": {
      "text/plain": "'Turn Web Content Into Useful Data'"
     },
     "metadata": {},
     "execution_count": 11
    }
   ],
   "source": [
    "soup.h2.text"
   ]
  },
  {
   "cell_type": "code",
   "execution_count": 12,
   "metadata": {},
   "outputs": [],
   "source": [
    "links =  soup.find_all('a')"
   ]
  },
  {
   "cell_type": "code",
   "execution_count": 13,
   "metadata": {
    "tags": []
   },
   "outputs": [
    {
     "output_type": "stream",
     "name": "stdout",
     "text": "\nTHE SCRAPINGHUB BLOG\nTurn Web Content Into Useful Data\n\n\n\n\nScrapy Cloud Secrets: Hub Crawl Frontier and How To Use It\nAugust 06, 2020 \nJúlio César Batista\n0 Comment\nRead More\n\n\n\nBlog Comments API (BETA): Extract Blog Comment DATA At Scale\nJuly 30, 2020 \nJohn Campbell\n0 Comment\nBlog Comments API\nRead More\n\n\n\nYour Price Intelligence Questions Answered\nJuly 28, 2020 \nHimanshi Bhatt\n0 Comment\nRead More\n\n\n\nData Center Proxies vs. Residential Proxies\nJuly 21, 2020 \nAttila Tóth\n0 Comment\nRead More\n\n\n\nHow to Get High Success Rates With Proxies: 3 Steps to Scale Up\nJuly 14, 2020 \nAttila Tóth\n0 Comment\nrotating proxy solution\nRead More\n\n\n\nJob Postings API: Stable release\nJuly 09, 2020 \nJohn Campbell\n0 Comment\nJob Postings API\nRead More\n\n\n\nWeb Scraping Basics: A Developer’s Guide To Reliably Extract Data\nJuly 07, 2020 \nChira Mircea\n0 Comment\nRead More\n\n\n\nExtracting Article & News Data: The Importance of Data Quality\nJune 23, 2020 \nAttila Tóth\n0 Comment\nRead More\n\n\n\nPrice Gouging or Economics at Work: Price Intelligence to Track Consumer Sentiment\nJune 11, 2020 \nRobert Cosgrave\n0 Comment\nRead More\n\n\n\nA Practical Guide to Web Data QA Part III: Holistic Data Validation Techniques\nJune 09, 2020 \nIvan Ivanov and Warley Ferreira Lopes\n0 Comment\nfirst part\nsecond part\nRead More\nOLDER POST\n\nWeb Scraping Basics: A Developer’s Guide to Reliably Extract Data\n\n\n\n\nLearn how to configure and utilize proxies with Python Requests module\nAn Introduction to XPath: How to Get Started\nHandling JavaScript in Scrapy with Splash\nHow to Build your own Price Monitoring Tool\nIntroducing Scrapy Cloud with Python 3 Support\nScrapinghub (94)\nScrapy (45)\nWeb Scraping (36)\nReleases (29)\nOpen source (20)\nscrapy (19)\nCrawlera (16)\nScrapy Cloud (15)\ndata extraction (15)\nweb crawling (15)\nProxies (10)\nAutoExtract (9)\nScrapy Tips from the Pros (9)\nWeb Data (9)\ncrawling (8)\nAugust 2020 (1)\nJuly 2020 (6)\nJune 2020 (3)\nMay 2020 (1)\nApril 2020 (3)\nMarch 2020 (6)\nFebruary 2020 (4)\nJanuary 2020 (3)\nDecember 2019 (3)\nNovember 2019 (3)\nOctober 2019 (4)\nSeptember 2019 (4)\nAugust 2019 (3)\nJuly 2019 (2)\nJune 2019 (1)\n"
    }
   ],
   "source": [
    "for link in links:\n",
    "    print(link.text)"
   ]
  },
  {
   "cell_type": "markdown",
   "metadata": {},
   "source": [
    "# searching and parsing data from a page"
   ]
  },
  {
   "cell_type": "code",
   "execution_count": 19,
   "metadata": {},
   "outputs": [],
   "source": [
    "item =  soup.find(\"div\", {'class':'post-item'})"
   ]
  },
  {
   "cell_type": "code",
   "execution_count": 21,
   "metadata": {},
   "outputs": [
    {
     "output_type": "execute_result",
     "data": {
      "text/plain": "'Scrapy Cloud Secrets: Hub Crawl Frontier and How To Use It'"
     },
     "metadata": {},
     "execution_count": 21
    }
   ],
   "source": [
    "item.h2.text"
   ]
  },
  {
   "cell_type": "code",
   "execution_count": 24,
   "metadata": {},
   "outputs": [
    {
     "output_type": "execute_result",
     "data": {
      "text/plain": "'\\n\\nAugust 06, 2020 \\n'"
     },
     "metadata": {},
     "execution_count": 24
    }
   ],
   "source": [
    "item.find('span',{\"class\":'date'}).text"
   ]
  },
  {
   "cell_type": "code",
   "execution_count": 26,
   "metadata": {},
   "outputs": [],
   "source": [
    "title = item.h2.text\n",
    "date = item.find('span',{\"class\":'date'}).text\n",
    "author = item.find('span',{\"class\":'author'}).text\n",
    "comment = item.find('span',{\"class\":'custom_listing_comments'}).text"
   ]
  },
  {
   "cell_type": "code",
   "execution_count": 28,
   "metadata": {
    "tags": []
   },
   "outputs": [
    {
     "output_type": "stream",
     "name": "stdout",
     "text": "Scrapy Cloud Secrets: Hub Crawl Frontier and How To Use It\nJúlio César Batista\nAugust 06, 2020\n0 Comment\nBlog Comments API (BETA): Extract Blog Comment DATA At Scale\nJohn Campbell\nJuly 30, 2020\n0 Comment\nYour Price Intelligence Questions Answered\nHimanshi Bhatt\nJuly 28, 2020\n0 Comment\nData Center Proxies vs. Residential Proxies\nAttila Tóth\nJuly 21, 2020\n0 Comment\nHow to Get High Success Rates With Proxies: 3 Steps to Scale Up\nAttila Tóth\nJuly 14, 2020\n0 Comment\nJob Postings API: Stable release\nJohn Campbell\nJuly 09, 2020\n0 Comment\nWeb Scraping Basics: A Developer’s Guide To Reliably Extract Data\nChira Mircea\nJuly 07, 2020\n0 Comment\nExtracting Article & News Data: The Importance of Data Quality\nAttila Tóth\nJune 23, 2020\n0 Comment\nPrice Gouging or Economics at Work: Price Intelligence to Track Consumer Sentiment\nRobert Cosgrave\nJune 11, 2020\n0 Comment\nA Practical Guide to Web Data QA Part III: Holistic Data Validation Techniques\nIvan Ivanov and Warley Ferreira Lopes\nJune 09, 2020\n0 Comment\n"
    }
   ],
   "source": [
    "all_articles = soup.find_all(\"div\", {'class':'post-item'})\n",
    "for item in all_articles:\n",
    "    title = item.h2.text\n",
    "    date = item.find('span',{\"class\":'date'}).text.strip()\n",
    "    author = item.find('span',{\"class\":'author'}).text.strip()\n",
    "    comment = item.find('span',{\"class\":'custom_listing_comments'}).text.strip()\n",
    "    print(title)\n",
    "    print(author)\n",
    "    print(date)\n",
    "    print(comment)"
   ]
  },
  {
   "cell_type": "code",
   "execution_count": 29,
   "metadata": {},
   "outputs": [],
   "source": [
    "data = []\n",
    "all_articles = soup.find_all(\"div\", {'class':'post-item'})\n",
    "for item in all_articles:\n",
    "    title = item.h2.text\n",
    "    date = item.find('span',{\"class\":'date'}).text.strip()\n",
    "    author = item.find('span',{\"class\":'author'}).text.strip()\n",
    "    comment = item.find('span',{\"class\":'custom_listing_comments'}).text.strip()\n",
    "    data.append({\n",
    "        'title' : title,\n",
    "        'date' : date,\n",
    "        'author' : author,\n",
    "        'comments': comment\n",
    "    })"
   ]
  },
  {
   "cell_type": "code",
   "execution_count": 31,
   "metadata": {},
   "outputs": [],
   "source": [
    "import pandas as pd"
   ]
  },
  {
   "cell_type": "code",
   "execution_count": 33,
   "metadata": {},
   "outputs": [],
   "source": [
    "df = pd.DataFrame(data)"
   ]
  },
  {
   "cell_type": "code",
   "execution_count": 34,
   "metadata": {},
   "outputs": [
    {
     "output_type": "execute_result",
     "data": {
      "text/plain": "                                               title             date  \\\n0  Scrapy Cloud Secrets: Hub Crawl Frontier and H...  August 06, 2020   \n1  Blog Comments API (BETA): Extract Blog Comment...    July 30, 2020   \n2         Your Price Intelligence Questions Answered    July 28, 2020   \n3        Data Center Proxies vs. Residential Proxies    July 21, 2020   \n4  How to Get High Success Rates With Proxies: 3 ...    July 14, 2020   \n5                   Job Postings API: Stable release    July 09, 2020   \n6  Web Scraping Basics: A Developer’s Guide To Re...    July 07, 2020   \n7  Extracting Article & News Data: The Importance...    June 23, 2020   \n8  Price Gouging or Economics at Work: Price Inte...    June 11, 2020   \n9  A Practical Guide to Web Data QA Part III: Hol...    June 09, 2020   \n\n                                  author   comments  \n0                    Júlio César Batista  0 Comment  \n1                          John Campbell  0 Comment  \n2                         Himanshi Bhatt  0 Comment  \n3                            Attila Tóth  0 Comment  \n4                            Attila Tóth  0 Comment  \n5                          John Campbell  0 Comment  \n6                           Chira Mircea  0 Comment  \n7                            Attila Tóth  0 Comment  \n8                        Robert Cosgrave  0 Comment  \n9  Ivan Ivanov and Warley Ferreira Lopes  0 Comment  ",
      "text/html": "<div>\n<style scoped>\n    .dataframe tbody tr th:only-of-type {\n        vertical-align: middle;\n    }\n\n    .dataframe tbody tr th {\n        vertical-align: top;\n    }\n\n    .dataframe thead th {\n        text-align: right;\n    }\n</style>\n<table border=\"1\" class=\"dataframe\">\n  <thead>\n    <tr style=\"text-align: right;\">\n      <th></th>\n      <th>title</th>\n      <th>date</th>\n      <th>author</th>\n      <th>comments</th>\n    </tr>\n  </thead>\n  <tbody>\n    <tr>\n      <th>0</th>\n      <td>Scrapy Cloud Secrets: Hub Crawl Frontier and H...</td>\n      <td>August 06, 2020</td>\n      <td>Júlio César Batista</td>\n      <td>0 Comment</td>\n    </tr>\n    <tr>\n      <th>1</th>\n      <td>Blog Comments API (BETA): Extract Blog Comment...</td>\n      <td>July 30, 2020</td>\n      <td>John Campbell</td>\n      <td>0 Comment</td>\n    </tr>\n    <tr>\n      <th>2</th>\n      <td>Your Price Intelligence Questions Answered</td>\n      <td>July 28, 2020</td>\n      <td>Himanshi Bhatt</td>\n      <td>0 Comment</td>\n    </tr>\n    <tr>\n      <th>3</th>\n      <td>Data Center Proxies vs. Residential Proxies</td>\n      <td>July 21, 2020</td>\n      <td>Attila Tóth</td>\n      <td>0 Comment</td>\n    </tr>\n    <tr>\n      <th>4</th>\n      <td>How to Get High Success Rates With Proxies: 3 ...</td>\n      <td>July 14, 2020</td>\n      <td>Attila Tóth</td>\n      <td>0 Comment</td>\n    </tr>\n    <tr>\n      <th>5</th>\n      <td>Job Postings API: Stable release</td>\n      <td>July 09, 2020</td>\n      <td>John Campbell</td>\n      <td>0 Comment</td>\n    </tr>\n    <tr>\n      <th>6</th>\n      <td>Web Scraping Basics: A Developer’s Guide To Re...</td>\n      <td>July 07, 2020</td>\n      <td>Chira Mircea</td>\n      <td>0 Comment</td>\n    </tr>\n    <tr>\n      <th>7</th>\n      <td>Extracting Article &amp; News Data: The Importance...</td>\n      <td>June 23, 2020</td>\n      <td>Attila Tóth</td>\n      <td>0 Comment</td>\n    </tr>\n    <tr>\n      <th>8</th>\n      <td>Price Gouging or Economics at Work: Price Inte...</td>\n      <td>June 11, 2020</td>\n      <td>Robert Cosgrave</td>\n      <td>0 Comment</td>\n    </tr>\n    <tr>\n      <th>9</th>\n      <td>A Practical Guide to Web Data QA Part III: Hol...</td>\n      <td>June 09, 2020</td>\n      <td>Ivan Ivanov and Warley Ferreira Lopes</td>\n      <td>0 Comment</td>\n    </tr>\n  </tbody>\n</table>\n</div>"
     },
     "metadata": {},
     "execution_count": 34
    }
   ],
   "source": [
    "df"
   ]
  },
  {
   "cell_type": "code",
   "execution_count": 36,
   "metadata": {},
   "outputs": [],
   "source": [
    "df.to_csv(\"scraping_hub_articles.csv\",index=False)"
   ]
  },
  {
   "cell_type": "markdown",
   "metadata": {},
   "source": [
    "# collecting data from multiple pages"
   ]
  },
  {
   "cell_type": "code",
   "execution_count": 37,
   "metadata": {},
   "outputs": [],
   "source": [
    "base_url ='https://blog.scrapinghub.com/page/'"
   ]
  },
  {
   "cell_type": "code",
   "execution_count": 41,
   "metadata": {
    "tags": []
   },
   "outputs": [
    {
     "output_type": "stream",
     "name": "stdout",
     "text": "page 1 scraped\npage 2 scraped\npage 3 scraped\npage 4 scraped\npage 5 scraped\npage 6 scraped\npage 7 scraped\npage 8 scraped\npage 9 scraped\npage 10 scraped\npage 11 scraped\npage 12 scraped\npage 13 scraped\npage 14 scraped\npage 15 scraped\npage 16 scraped\npage 17 scraped\npage 18 scraped\npage 19 scraped\nscraping stopped\n"
    }
   ],
   "source": [
    "pg_num = 1\n",
    "while True:\n",
    "    url = f\"{base_url}{pg_num}\"\n",
    "    page = requests.get(url)\n",
    "    if page.status_code == 200:\n",
    "        print(f\"page {pg_num} scraped\")\n",
    "        pg_num += 1\n",
    "    else:\n",
    "        print(\"scraping stopped\")\n",
    "        break"
   ]
  },
  {
   "cell_type": "code",
   "execution_count": 43,
   "metadata": {
    "tags": []
   },
   "outputs": [
    {
     "output_type": "stream",
     "name": "stdout",
     "text": "page 1 scraped\narticle added to data\narticle added to data\narticle added to data\narticle added to data\narticle added to data\narticle added to data\narticle added to data\narticle added to data\narticle added to data\narticle added to data\npage 2 scraped\narticle added to data\narticle added to data\narticle added to data\narticle added to data\narticle added to data\narticle added to data\narticle added to data\narticle added to data\narticle added to data\narticle added to data\npage 3 scraped\narticle added to data\narticle added to data\narticle added to data\narticle added to data\narticle added to data\narticle added to data\narticle added to data\narticle added to data\narticle added to data\narticle added to data\npage 4 scraped\narticle added to data\narticle added to data\narticle added to data\narticle added to data\narticle added to data\narticle added to data\narticle added to data\narticle added to data\narticle added to data\narticle added to data\npage 5 scraped\narticle added to data\narticle added to data\narticle added to data\narticle added to data\narticle added to data\narticle added to data\narticle added to data\narticle added to data\narticle added to data\narticle added to data\npage 6 scraped\narticle added to data\narticle added to data\narticle added to data\narticle added to data\narticle added to data\narticle added to data\narticle added to data\narticle added to data\narticle added to data\narticle added to data\npage 7 scraped\narticle added to data\narticle added to data\narticle added to data\narticle added to data\narticle added to data\narticle added to data\narticle added to data\narticle added to data\narticle added to data\narticle added to data\npage 8 scraped\narticle added to data\narticle added to data\narticle added to data\narticle added to data\narticle added to data\narticle added to data\narticle added to data\narticle added to data\narticle added to data\narticle added to data\npage 9 scraped\narticle added to data\narticle added to data\narticle added to data\narticle added to data\narticle added to data\narticle added to data\narticle added to data\narticle added to data\narticle added to data\narticle added to data\npage 10 scraped\narticle added to data\narticle added to data\narticle added to data\narticle added to data\narticle added to data\narticle added to data\narticle added to data\narticle added to data\narticle added to data\narticle added to data\npage 11 scraped\narticle added to data\narticle added to data\narticle added to data\narticle added to data\narticle added to data\narticle added to data\narticle added to data\narticle added to data\narticle added to data\narticle added to data\npage 12 scraped\narticle added to data\narticle added to data\narticle added to data\narticle added to data\narticle added to data\narticle added to data\narticle added to data\narticle added to data\narticle added to data\narticle added to data\npage 13 scraped\narticle added to data\narticle added to data\narticle added to data\narticle added to data\narticle added to data\narticle added to data\narticle added to data\narticle added to data\narticle added to data\narticle added to data\npage 14 scraped\narticle added to data\narticle added to data\narticle added to data\narticle added to data\narticle added to data\narticle added to data\narticle added to data\narticle added to data\narticle added to data\narticle added to data\npage 15 scraped\narticle added to data\narticle added to data\narticle added to data\narticle added to data\narticle added to data\narticle added to data\narticle added to data\narticle added to data\narticle added to data\narticle added to data\npage 16 scraped\narticle added to data\narticle added to data\narticle added to data\narticle added to data\narticle added to data\narticle added to data\narticle added to data\narticle added to data\narticle added to data\narticle added to data\npage 17 scraped\narticle added to data\narticle added to data\narticle added to data\narticle added to data\narticle added to data\narticle added to data\narticle added to data\narticle added to data\narticle added to data\narticle added to data\npage 18 scraped\narticle added to data\narticle added to data\narticle added to data\narticle added to data\narticle added to data\narticle added to data\narticle added to data\narticle added to data\narticle added to data\narticle added to data\npage 19 scraped\narticle added to data\narticle added to data\narticle added to data\nscraping stopped\n"
    }
   ],
   "source": [
    "pg_num = 1\n",
    "data = []\n",
    "while True:\n",
    "    url = f\"{base_url}{pg_num}\"\n",
    "    page = requests.get(url)\n",
    "    if page.status_code == 200:\n",
    "        print(f\"page {pg_num} scraped\")\n",
    "        pg_num += 1\n",
    "        soup  = BeautifulSoup(page.text)\n",
    "        all_articles = soup.find_all(\"div\", {'class':'post-item'})\n",
    "        for item in all_articles:\n",
    "            title = item.h2.text\n",
    "            link = item.h2.a.attrs.get('href')\n",
    "            date = item.find('span',{\"class\":'date'}).text.strip()\n",
    "            author = item.find('span',{\"class\":'author'}).text.strip()\n",
    "            comment = item.find('span',{\"class\":'custom_listing_comments'}).text.strip()\n",
    "            data.append({\n",
    "                'title' : title,\n",
    "                'date' : date,\n",
    "                'author' : author,\n",
    "                'comments': comment,\n",
    "                'link': link\n",
    "            })\n",
    "            print('article added to data')\n",
    "    else:\n",
    "        print(\"scraping stopped\")\n",
    "        break"
   ]
  },
  {
   "cell_type": "code",
   "execution_count": 46,
   "metadata": {},
   "outputs": [],
   "source": [
    "df = pd.DataFrame(data)\n",
    "df.to_csv('all_blogs_scrapinghub.csv',index=False)"
   ]
  },
  {
   "cell_type": "code",
   "execution_count": null,
   "metadata": {},
   "outputs": [],
   "source": []
  }
 ]
}